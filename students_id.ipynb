{
 "cells": [
  {
   "cell_type": "code",
   "execution_count": 3,
   "id": "aa23334c-64a8-428b-bd28-e6fea47d6124",
   "metadata": {},
   "outputs": [],
   "source": [
    "# Step 1: Import numpy\n",
    "import numpy as np"
   ]
  },
  {
   "cell_type": "code",
   "execution_count": 5,
   "id": "c29bca95-682e-4bf1-b14d-132b303d3286",
   "metadata": {},
   "outputs": [],
   "source": [
    "# Step 2: Input string (you can change this)\n",
    "input_string = \"0 0 3 0 2 4 2 2 2 2\"\n"
   ]
  },
  {
   "cell_type": "code",
   "execution_count": 7,
   "id": "dd61f3bc-7e19-4bf7-9714-1f1dd810f59d",
   "metadata": {},
   "outputs": [],
   "source": [
    "# Step 3: Convert input to numpy array\n",
    "ids = np.array(list(map(int, input_string.split())))"
   ]
  },
  {
   "cell_type": "code",
   "execution_count": 9,
   "id": "51680083-1ad7-4933-8e50-99ef7bf83350",
   "metadata": {},
   "outputs": [],
   "source": [
    "# Step 4: Create a boolean array of the same length initialized with False\n",
    "is_duplicate = np.full(ids.shape, False)\n"
   ]
  },
  {
   "cell_type": "code",
   "execution_count": 11,
   "id": "8fdfed4b-ef4f-49af-a2b4-a16ca5722460",
   "metadata": {},
   "outputs": [],
   "source": [
    "# Step 5: Create an empty set to track seen IDs\n",
    "seen = set()\n"
   ]
  },
  {
   "cell_type": "code",
   "execution_count": 13,
   "id": "44e93039-670f-43a5-9d34-643199af65d8",
   "metadata": {},
   "outputs": [],
   "source": [
    "# Step 6: Loop through IDs and mark duplicates\n",
    "for idx, id_val in enumerate(ids):\n",
    "    if id_val in seen:\n",
    "        is_duplicate[idx] = True  # Mark as duplicate\n",
    "    else:\n",
    "        seen.add(id_val)  # First time seeing this ID"
   ]
  },
  {
   "cell_type": "code",
   "execution_count": 15,
   "id": "09727a0e-4d80-41e1-921a-551dd68a80f1",
   "metadata": {},
   "outputs": [
    {
     "name": "stdout",
     "output_type": "stream",
     "text": [
      "Input IDs:\n",
      "[0 0 3 0 2 4 2 2 2 2]\n",
      "Duplicate Check Output:\n",
      "[False  True False  True False False  True  True  True  True]\n"
     ]
    }
   ],
   "source": [
    "# Step 7: Print output\n",
    "print(\"Input IDs:\")\n",
    "print(ids)\n",
    "print(\"Duplicate Check Output:\")\n",
    "print(is_duplicate)"
   ]
  },
  {
   "cell_type": "code",
   "execution_count": null,
   "id": "67022be9-4a6e-4770-b701-6970e159a042",
   "metadata": {},
   "outputs": [],
   "source": []
  },
  {
   "cell_type": "code",
   "execution_count": null,
   "id": "58950098-057e-4700-bd3c-a02698a4c582",
   "metadata": {},
   "outputs": [],
   "source": []
  },
  {
   "cell_type": "code",
   "execution_count": null,
   "id": "f5718f81-460b-4e1b-939a-3e56017c43ef",
   "metadata": {},
   "outputs": [],
   "source": []
  },
  {
   "cell_type": "code",
   "execution_count": null,
   "id": "8a81e671-ab51-4524-8a9d-e7f4d4cd3d41",
   "metadata": {},
   "outputs": [],
   "source": []
  }
 ],
 "metadata": {
  "kernelspec": {
   "display_name": "Python [conda env:base] *",
   "language": "python",
   "name": "conda-base-py"
  },
  "language_info": {
   "codemirror_mode": {
    "name": "ipython",
    "version": 3
   },
   "file_extension": ".py",
   "mimetype": "text/x-python",
   "name": "python",
   "nbconvert_exporter": "python",
   "pygments_lexer": "ipython3",
   "version": "3.12.7"
  }
 },
 "nbformat": 4,
 "nbformat_minor": 5
}
