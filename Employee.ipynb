{
 "cells": [
  {
   "cell_type": "code",
   "execution_count": 1,
   "id": "469eee5d-b425-47ac-846c-130b31f52c3b",
   "metadata": {},
   "outputs": [],
   "source": [
    "import numpy as np"
   ]
  },
  {
   "cell_type": "code",
   "execution_count": 3,
   "id": "9daf16a8-f383-4b41-a495-a2b894fdbbd3",
   "metadata": {},
   "outputs": [],
   "source": [
    "import pandas as pd"
   ]
  },
  {
   "cell_type": "code",
   "execution_count": 5,
   "id": "47c96e5a-b692-4771-9444-dd5922ccbe85",
   "metadata": {},
   "outputs": [],
   "source": [
    "np.random.seed(42)"
   ]
  },
  {
   "cell_type": "code",
   "execution_count": 15,
   "id": "85abbfb9-524b-4d8e-9cc6-aed99e8ba030",
   "metadata": {},
   "outputs": [],
   "source": [
    "employee_id=[f\"Emp_{i:03d}\"for i in range(1,31)]\n",
    "dates=pd.date_range(start=\"2025-07-01\",periods=30,freq=\"D\")\n"
   ]
  },
  {
   "cell_type": "code",
   "execution_count": 17,
   "id": "5356bc94-d836-4022-b7ea-edac902df086",
   "metadata": {},
   "outputs": [
    {
     "data": {
      "text/plain": [
       "['Emp_001',\n",
       " 'Emp_002',\n",
       " 'Emp_003',\n",
       " 'Emp_004',\n",
       " 'Emp_005',\n",
       " 'Emp_006',\n",
       " 'Emp_007',\n",
       " 'Emp_008',\n",
       " 'Emp_009',\n",
       " 'Emp_010',\n",
       " 'Emp_011',\n",
       " 'Emp_012',\n",
       " 'Emp_013',\n",
       " 'Emp_014',\n",
       " 'Emp_015',\n",
       " 'Emp_016',\n",
       " 'Emp_017',\n",
       " 'Emp_018',\n",
       " 'Emp_019',\n",
       " 'Emp_020',\n",
       " 'Emp_021',\n",
       " 'Emp_022',\n",
       " 'Emp_023',\n",
       " 'Emp_024',\n",
       " 'Emp_025',\n",
       " 'Emp_026',\n",
       " 'Emp_027',\n",
       " 'Emp_028',\n",
       " 'Emp_029',\n",
       " 'Emp_030']"
      ]
     },
     "execution_count": 17,
     "metadata": {},
     "output_type": "execute_result"
    }
   ],
   "source": [
    "employee_id"
   ]
  },
  {
   "cell_type": "code",
   "execution_count": 21,
   "id": "8109f17a-aaaf-44d0-b33e-dd1aa220056d",
   "metadata": {},
   "outputs": [],
   "source": [
    "\n",
    "data={\n",
    "    \"Date\":np.tile(dates,len(employee_id)),\n",
    "    \"Employee_id\":np.repeat(employee_id,len(dates)),\n",
    "    \"Working_Hours\":np.random.uniform(4,10,size=len(dates)*len(employee_id))\n",
    "}\n"
   ]
  },
  {
   "cell_type": "code",
   "execution_count": 25,
   "id": "51615c0c-86ad-4c50-ab55-f54f83e058d5",
   "metadata": {},
   "outputs": [],
   "source": [
    "df=pd.DataFrame(data)"
   ]
  },
  {
   "cell_type": "code",
   "execution_count": 63,
   "id": "1bd408e9-d565-4c84-8704-e9c5e316a0a5",
   "metadata": {},
   "outputs": [
    {
     "data": {
      "text/plain": [
       "Date             2025-07-03 00:00:00\n",
       "Employee_id                  Emp_001\n",
       "Working_Hours               7.978287\n",
       "Name: 2, dtype: object"
      ]
     },
     "execution_count": 63,
     "metadata": {},
     "output_type": "execute_result"
    }
   ],
   "source": [
    "row=df.iloc[0]\n",
    "row"
   ]
  },
  {
   "cell_type": "code",
   "execution_count": 31,
   "id": "305e0745-eac9-484d-ac8e-cbbca7d55cc9",
   "metadata": {},
   "outputs": [],
   "source": [
    "df.to_csv(\"employee_working_hours.csv\",index=False)"
   ]
  },
  {
   "cell_type": "code",
   "execution_count": 33,
   "id": "3d7739e7-d53b-4c4c-971d-e86b9222ba8f",
   "metadata": {},
   "outputs": [],
   "source": [
    "#Read from csv\n",
    "df_csv=pd.read_csv(\"employee_working_hours.csv\")"
   ]
  },
  {
   "cell_type": "code",
   "execution_count": 39,
   "id": "de01f386-555c-4066-ad28-0ef6d4bed6f8",
   "metadata": {},
   "outputs": [
    {
     "name": "stdout",
     "output_type": "stream",
     "text": [
      "         Date Employee_id  Working_Hours\n",
      "0  2025-07-01     Emp_001       7.864861\n",
      "1  2025-07-02     Emp_001       6.284491\n",
      "2  2025-07-03     Emp_001       7.978287\n",
      "3  2025-07-04     Emp_001       4.981904\n",
      "4  2025-07-05     Emp_001       9.775647\n",
      "       Working_Hours\n",
      "count     900.000000\n",
      "mean        7.004995\n",
      "std         1.752230\n",
      "min         4.019366\n",
      "25%         5.503066\n",
      "50%         6.975393\n",
      "75%         8.489365\n",
      "max         9.993653\n",
      "30\n"
     ]
    }
   ],
   "source": [
    "print(df_csv.head())\n",
    "print(df_csv.describe())\n",
    "print(df_csv[\"Employee_id\"].nunique())"
   ]
  },
  {
   "cell_type": "code",
   "execution_count": 43,
   "id": "858d62ae-1026-47ff-a51f-99c0e2f2a032",
   "metadata": {},
   "outputs": [],
   "source": [
    "#Total hours per emplloyee\n",
    "total_hours=df_csv.groupby(\"Employee_id\")[\"Working_Hours\"].sum().sort_values(ascending=False)"
   ]
  },
  {
   "cell_type": "code",
   "execution_count": 45,
   "id": "6e3d0778-eaab-471a-bd06-6a9933a1ce35",
   "metadata": {},
   "outputs": [],
   "source": [
    "daily_avg=df_csv.groupby(\"Employee_id\")[\"Working_Hours\"].mean()"
   ]
  },
  {
   "cell_type": "code",
   "execution_count": 53,
   "id": "e522fdff-dd1e-42c9-9531-02129cce255f",
   "metadata": {},
   "outputs": [],
   "source": [
    "threshold_low=5\n",
    "threshold_high=9\n",
    "df_csv[\"Low_Hours_Flag\"]=df_csv[\"Working_Hours\"] < threshold_low\n",
    "df_csv[\"High_Hours_Flag\"]=df_csv[\"Working_Hours\"] > threshold_high\n",
    "\n"
   ]
  },
  {
   "cell_type": "code",
   "execution_count": 57,
   "id": "60eac569-1039-4af9-a200-9614f2f56138",
   "metadata": {
    "scrolled": true
   },
   "outputs": [
    {
     "data": {
      "image/png": "[encoded data removed]",
      "text/plain": [
       "<Figure size 1000x500 with 1 Axes>"
      ]
     },
     "metadata": {},
     "output_type": "display_data"
    }
   ],
   "source": [
    "import matplotlib.pyplot as plt\n",
    "import seaborn as sns\n",
    "#Bar chart of top 10 employees with highest total hours\n",
    "top10= total_hours.head(10)\n",
    "plt.figure(figsize=(10,5))\n",
    "sns.barplot(x=top10.index, y=top10.values)\n",
    "plt.xticks(rotation=45)\n",
    "plt.title(\"Top 10 Employees by Total Working Hours\")\n",
    "plt.ylabel(\"Hours\")\n",
    "plt.tight_layout()\n",
    "plt.show()"
   ]
  },
  {
   "cell_type": "code",
   "execution_count": null,
   "id": "9cc72c66-fa13-48c0-9173-e4beed377de9",
   "metadata": {},
   "outputs": [],
   "source": [
    "row=df_csv.loc[df[\"Emp_001\"]==]# variables=df.loc[(df[\"name\"]==\"john\")]"
   ]
  }
 ],
 "metadata": {
  "kernelspec": {
   "display_name": "Python [conda env:base] *",
   "language": "python",
   "name": "conda-base-py"
  },
  "language_info": {
   "codemirror_mode": {
    "name": "ipython",
    "version": 3
   },
   "file_extension": ".py",
   "mimetype": "text/x-python",
   "name": "python",
   "nbconvert_exporter": "python",
   "pygments_lexer": "ipython3",
   "version": "3.12.7"
  }
 },
 "nbformat": 4,
 "nbformat_minor": 5
}
